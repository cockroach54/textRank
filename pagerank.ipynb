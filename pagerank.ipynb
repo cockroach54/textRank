{
 "cells": [
  {
   "cell_type": "markdown",
   "metadata": {},
   "source": [
    "# pagerank demo"
   ]
  },
  {
   "cell_type": "code",
   "execution_count": 1,
   "metadata": {},
   "outputs": [],
   "source": [
    "import operator\n",
    "import math, random, sys, csv \n",
    "from utils import parse, print_results\n",
    "\n",
    "class PageRank:\n",
    "    def __init__(self, graph, directed):\n",
    "        self.graph = graph\n",
    "        self.V = len(self.graph)\n",
    "        self.d = 0.85\n",
    "        self.directed = directed\n",
    "        self.ranks = dict()\n",
    "    \n",
    "    def rank(self):\n",
    "        for key, node in self.graph.nodes(data=True):\n",
    "            if self.directed:\n",
    "                self.ranks[key] = 1/float(self.V)\n",
    "            else:\n",
    "                self.ranks[key] = node.get('rank')\n",
    "\n",
    "        for _ in range(10):\n",
    "            for key, node in self.graph.nodes(data=True):\n",
    "                rank_sum = 0\n",
    "                curr_rank = node.get('rank')\n",
    "                if self.directed:\n",
    "                    neighbors = self.graph.out_edges(key)\n",
    "                    for n in neighbors:\n",
    "                        outlinks = len(self.graph.out_edges(n[1]))\n",
    "                        if outlinks > 0:\n",
    "                            rank_sum += (1 / float(outlinks)) * self.ranks[n[1]]\n",
    "                else: \n",
    "                    neighbors = self.graph[key]\n",
    "                    for n in neighbors:\n",
    "                        if self.ranks[n] is not None:\n",
    "                            outlinks = len(self.graph.neighbors(n))\n",
    "                            rank_sum += (1 / float(outlinks)) * self.ranks[n]\n",
    "            \n",
    "                # actual page rank compution\n",
    "                self.ranks[key] = ((1 - float(self.d)) * (1/float(self.V))) + self.d*rank_sum\n",
    "\n",
    "        return p\n",
    "\n",
    "\n",
    "\n",
    "def rank(graph, node):\n",
    "    #V\n",
    "    nodes = graph.nodes()\n",
    "    #|V|\n",
    "    nodes_sz = len(nodes) \n",
    "    #I\n",
    "    neighbs = graph.neighbors(node)\n",
    "    #d\n",
    "    rand_jmp = random.uniform(0, 1)\n",
    "\n",
    "    ranks = []\n",
    "    ranks.append( (1/nodes_sz) )\n",
    "    \n",
    "    for n in nodes:\n",
    "        rank = (1-rand_jmp) * (1/nodes_sz) \n",
    "        trank = 0\n",
    "        for nei in neighbs:\n",
    "            trank += (1/len(neighbs)) * ranks[len(ranks)-1]\n",
    "        rank = rank + (d * trank)\n",
    "        ranks.append(rank)\n"
   ]
  },
  {
   "cell_type": "code",
   "execution_count": null,
   "metadata": {
    "collapsed": true
   },
   "outputs": [],
   "source": [
    "if __name__ == '__main__':\n",
    "    if len(sys.argv) == 1:\n",
    "        print 'Expected input format: python pageRank.py <data_filename> <directed OR undirected>'\n",
    "    else:\n",
    "        filename = sys.argv[1]\n",
    "        isDirected = False\n",
    "        if sys.argv[2] == 'directed':\n",
    "            isDirected = True\n",
    "\n",
    "        graph = parse(filename, isDirected)\n",
    "        p = PageRank(graph, isDirected)\n",
    "        p.rank()\n",
    "\n",
    "        sorted_r = sorted(p.ranks.iteritems(), key=operator.itemgetter(1), reverse=True)\n",
    "\n",
    "        for tup in sorted_r:\n",
    "            print '{0:30} :{1:10}'.format(str(tup[0]), tup[1])\n",
    "\n",
    " #       for node in graph.nodes():\n",
    " #          print node + rank(graph, node)\n",
    "\n",
    "            #neighbs = graph.neighbors(node)\n",
    "            #print node + \" \" + str(neighbs)\n",
    "            #print random.uniform(0,1)"
   ]
  }
 ],
 "metadata": {
  "kernelspec": {
   "display_name": "Python 2",
   "language": "python",
   "name": "python2"
  },
  "language_info": {
   "codemirror_mode": {
    "name": "ipython",
    "version": 2
   },
   "file_extension": ".py",
   "mimetype": "text/x-python",
   "name": "python",
   "nbconvert_exporter": "python",
   "pygments_lexer": "ipython2",
   "version": "2.7.14"
  }
 },
 "nbformat": 4,
 "nbformat_minor": 2
}
